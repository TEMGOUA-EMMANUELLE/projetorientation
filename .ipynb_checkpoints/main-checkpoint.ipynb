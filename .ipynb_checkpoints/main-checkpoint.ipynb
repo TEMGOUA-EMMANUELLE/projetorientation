{
 "cells": [
  {
   "cell_type": "code",
   "execution_count": 1,
   "id": "f4d77689",
   "metadata": {},
   "outputs": [],
   "source": [
    "import numpy as np\n",
    "import pandas as pd"
   ]
  },
  {
   "cell_type": "code",
   "execution_count": 2,
   "id": "c61acce4",
   "metadata": {},
   "outputs": [],
   "source": [
    "# Exécute cette cellule si tu souhaite générer un nouveau dataset \n",
    "#\n",
    "#from createDataset import generateDataset\n",
    "\n",
    "#dataset = generateDataset()\n",
    "#dataset.to_excel(\"pipos datasets.xls\")"
   ]
  },
  {
   "cell_type": "code",
   "execution_count": 3,
   "id": "996d167e",
   "metadata": {},
   "outputs": [
    {
     "data": {
      "text/html": [
       "<div>\n",
       "<style scoped>\n",
       "    .dataframe tbody tr th:only-of-type {\n",
       "        vertical-align: middle;\n",
       "    }\n",
       "\n",
       "    .dataframe tbody tr th {\n",
       "        vertical-align: top;\n",
       "    }\n",
       "\n",
       "    .dataframe thead th {\n",
       "        text-align: right;\n",
       "    }\n",
       "</style>\n",
       "<table border=\"1\" class=\"dataframe\">\n",
       "  <thead>\n",
       "    <tr style=\"text-align: right;\">\n",
       "      <th></th>\n",
       "      <th>Spécalités</th>\n",
       "      <th>Informatique 1</th>\n",
       "      <th>Electromagnétisme 1</th>\n",
       "      <th>Mécanique 1</th>\n",
       "      <th>Elément de chimie</th>\n",
       "      <th>Trvaux pratiques de physique 1</th>\n",
       "      <th>Algèbre générale</th>\n",
       "      <th>Analyse réelle 1</th>\n",
       "      <th>Technologies et sciences des matériaux</th>\n",
       "      <th>Electromagnétisme 2</th>\n",
       "      <th>...</th>\n",
       "      <th>Trvaux pratiues de physique 2</th>\n",
       "      <th>Séries et intégrales</th>\n",
       "      <th>Algèbre multilinéaire, courbes et surfaces</th>\n",
       "      <th>Circuits électriques et électrocinétique</th>\n",
       "      <th>Optique géométrique</th>\n",
       "      <th>Thermodynamique</th>\n",
       "      <th>Statique</th>\n",
       "      <th>Informatique 4</th>\n",
       "      <th>Analyse dans les espaces vectoriels de dimensions finies</th>\n",
       "      <th>Analyse numérique</th>\n",
       "    </tr>\n",
       "  </thead>\n",
       "  <tbody>\n",
       "    <tr>\n",
       "      <th>0</th>\n",
       "      <td>Génie Civile</td>\n",
       "      <td>12</td>\n",
       "      <td>12</td>\n",
       "      <td>18</td>\n",
       "      <td>13</td>\n",
       "      <td>14</td>\n",
       "      <td>17</td>\n",
       "      <td>19</td>\n",
       "      <td>19</td>\n",
       "      <td>13</td>\n",
       "      <td>...</td>\n",
       "      <td>12</td>\n",
       "      <td>15</td>\n",
       "      <td>17</td>\n",
       "      <td>11</td>\n",
       "      <td>13</td>\n",
       "      <td>14</td>\n",
       "      <td>19</td>\n",
       "      <td>13</td>\n",
       "      <td>18</td>\n",
       "      <td>16</td>\n",
       "    </tr>\n",
       "    <tr>\n",
       "      <th>1</th>\n",
       "      <td>Génie Civile</td>\n",
       "      <td>12</td>\n",
       "      <td>13</td>\n",
       "      <td>15</td>\n",
       "      <td>13</td>\n",
       "      <td>13</td>\n",
       "      <td>18</td>\n",
       "      <td>16</td>\n",
       "      <td>16</td>\n",
       "      <td>13</td>\n",
       "      <td>...</td>\n",
       "      <td>14</td>\n",
       "      <td>18</td>\n",
       "      <td>17</td>\n",
       "      <td>11</td>\n",
       "      <td>12</td>\n",
       "      <td>13</td>\n",
       "      <td>19</td>\n",
       "      <td>13</td>\n",
       "      <td>15</td>\n",
       "      <td>16</td>\n",
       "    </tr>\n",
       "    <tr>\n",
       "      <th>2</th>\n",
       "      <td>Génie Civile</td>\n",
       "      <td>13</td>\n",
       "      <td>14</td>\n",
       "      <td>17</td>\n",
       "      <td>14</td>\n",
       "      <td>13</td>\n",
       "      <td>18</td>\n",
       "      <td>17</td>\n",
       "      <td>15</td>\n",
       "      <td>13</td>\n",
       "      <td>...</td>\n",
       "      <td>14</td>\n",
       "      <td>19</td>\n",
       "      <td>16</td>\n",
       "      <td>11</td>\n",
       "      <td>14</td>\n",
       "      <td>16</td>\n",
       "      <td>15</td>\n",
       "      <td>13</td>\n",
       "      <td>17</td>\n",
       "      <td>17</td>\n",
       "    </tr>\n",
       "    <tr>\n",
       "      <th>3</th>\n",
       "      <td>Génie Civile</td>\n",
       "      <td>13</td>\n",
       "      <td>14</td>\n",
       "      <td>16</td>\n",
       "      <td>14</td>\n",
       "      <td>14</td>\n",
       "      <td>19</td>\n",
       "      <td>17</td>\n",
       "      <td>19</td>\n",
       "      <td>14</td>\n",
       "      <td>...</td>\n",
       "      <td>13</td>\n",
       "      <td>17</td>\n",
       "      <td>18</td>\n",
       "      <td>11</td>\n",
       "      <td>12</td>\n",
       "      <td>15</td>\n",
       "      <td>15</td>\n",
       "      <td>12</td>\n",
       "      <td>18</td>\n",
       "      <td>19</td>\n",
       "    </tr>\n",
       "    <tr>\n",
       "      <th>4</th>\n",
       "      <td>Génie Civile</td>\n",
       "      <td>13</td>\n",
       "      <td>13</td>\n",
       "      <td>16</td>\n",
       "      <td>12</td>\n",
       "      <td>13</td>\n",
       "      <td>15</td>\n",
       "      <td>16</td>\n",
       "      <td>19</td>\n",
       "      <td>13</td>\n",
       "      <td>...</td>\n",
       "      <td>12</td>\n",
       "      <td>15</td>\n",
       "      <td>17</td>\n",
       "      <td>11</td>\n",
       "      <td>13</td>\n",
       "      <td>15</td>\n",
       "      <td>18</td>\n",
       "      <td>14</td>\n",
       "      <td>19</td>\n",
       "      <td>16</td>\n",
       "    </tr>\n",
       "  </tbody>\n",
       "</table>\n",
       "<p>5 rows × 28 columns</p>\n",
       "</div>"
      ],
      "text/plain": [
       "     Spécalités  Informatique 1  Electromagnétisme 1  Mécanique 1  \\\n",
       "0  Génie Civile              12                   12           18   \n",
       "1  Génie Civile              12                   13           15   \n",
       "2  Génie Civile              13                   14           17   \n",
       "3  Génie Civile              13                   14           16   \n",
       "4  Génie Civile              13                   13           16   \n",
       "\n",
       "   Elément de chimie  Trvaux pratiques de physique 1  Algèbre générale  \\\n",
       "0                 13                              14                17   \n",
       "1                 13                              13                18   \n",
       "2                 14                              13                18   \n",
       "3                 14                              14                19   \n",
       "4                 12                              13                15   \n",
       "\n",
       "   Analyse réelle 1  Technologies et sciences des matériaux  \\\n",
       "0                19                                      19   \n",
       "1                16                                      16   \n",
       "2                17                                      15   \n",
       "3                17                                      19   \n",
       "4                16                                      19   \n",
       "\n",
       "   Electromagnétisme 2  ...  Trvaux pratiues de physique 2  \\\n",
       "0                   13  ...                             12   \n",
       "1                   13  ...                             14   \n",
       "2                   13  ...                             14   \n",
       "3                   14  ...                             13   \n",
       "4                   13  ...                             12   \n",
       "\n",
       "   Séries et intégrales  Algèbre multilinéaire, courbes et surfaces  \\\n",
       "0                    15                                          17   \n",
       "1                    18                                          17   \n",
       "2                    19                                          16   \n",
       "3                    17                                          18   \n",
       "4                    15                                          17   \n",
       "\n",
       "   Circuits électriques et électrocinétique  Optique géométrique  \\\n",
       "0                                        11                   13   \n",
       "1                                        11                   12   \n",
       "2                                        11                   14   \n",
       "3                                        11                   12   \n",
       "4                                        11                   13   \n",
       "\n",
       "   Thermodynamique  Statique  Informatique 4  \\\n",
       "0               14        19              13   \n",
       "1               13        19              13   \n",
       "2               16        15              13   \n",
       "3               15        15              12   \n",
       "4               15        18              14   \n",
       "\n",
       "   Analyse dans les espaces vectoriels de dimensions finies  Analyse numérique  \n",
       "0                                                 18                        16  \n",
       "1                                                 15                        16  \n",
       "2                                                 17                        17  \n",
       "3                                                 18                        19  \n",
       "4                                                 19                        16  \n",
       "\n",
       "[5 rows x 28 columns]"
      ]
     },
     "execution_count": 3,
     "metadata": {},
     "output_type": "execute_result"
    }
   ],
   "source": [
    "data = pd.read_excel(\"pipos datasets.xls\")\n",
    "data = data.drop(\"Unnamed: 0\", axis=1)\n",
    "data.head()"
   ]
  },
  {
   "cell_type": "code",
   "execution_count": 20,
   "id": "thermal-nursery",
   "metadata": {},
   "outputs": [],
   "source": [
    "data = data.dropna(axis=0)\n",
    "X = data.drop(\"Spécalités\", axis=1)\n",
    "y = data[\"Spécalités\"]"
   ]
  },
  {
   "cell_type": "code",
   "execution_count": 5,
   "id": "tribal-coordination",
   "metadata": {},
   "outputs": [],
   "source": [
    "from sklearn.model_selection import train_test_split\n",
    "\n",
    "X_train, X_test, y_train, y_test = train_test_split(X, y, test_size=0.2, random_state=10)"
   ]
  },
  {
   "cell_type": "code",
   "execution_count": 6,
   "id": "db31e084",
   "metadata": {},
   "outputs": [
    {
     "name": "stdout",
     "output_type": "stream",
     "text": [
      "X_train: (354, 27)\n",
      "X_test: (89, 27)\n"
     ]
    },
    {
     "data": {
      "text/plain": [
       "Génie Civile                     34\n",
       "Génie Informatique               30\n",
       "Génie Electrique et Télécom      14\n",
       "Génie Industriel et Mécanique    11\n",
       "Name: Spécalités, dtype: int64"
      ]
     },
     "execution_count": 6,
     "metadata": {},
     "output_type": "execute_result"
    }
   ],
   "source": [
    "print(\"X_train:\",X_train.shape)\n",
    "print(\"X_test:\", X_test.shape)\n",
    "y_test.value_counts()"
   ]
  },
  {
   "cell_type": "code",
   "execution_count": 67,
   "id": "ff4d8280",
   "metadata": {},
   "outputs": [],
   "source": [
    "from sklearn.linear_model import SGDClassifier\n",
    "\n",
    "model = SGDClassifier(random_state=0)"
   ]
  },
  {
   "cell_type": "code",
   "execution_count": 68,
   "id": "336b874d",
   "metadata": {},
   "outputs": [],
   "source": [
    "from sklearn.model_selection import learning_curve\n",
    "from sklearn.metrics import confusion_matrix, classification_report\n",
    "import matplotlib.pyplot as plt\n",
    "\n",
    "def evaluation(model):\n",
    "    model.fit(X_train, y_train)\n",
    "    y_pred = model.predict(X_test)\n",
    "\n",
    "    print(confusion_matrix(y_test, y_pred))\n",
    "    print(classification_report(y_test, y_pred))\n",
    "\n",
    "    N, train_score, val_score = learning_curve(model, X_train, y_train, cv=4, scoring='accuracy', train_sizes=np.linspace(0.1, 1, 10))\n",
    "\n",
    "    plt.figure(figsize=(12, 8))\n",
    "    plt.plot(N, train_score.mean(axis=1), label='train score')\n",
    "    plt.plot(N, val_score.mean(axis=1), label='validation score')\n",
    "    plt.legend()\n",
    "    plt.show()\n",
    "\n",
    "    return model"
   ]
  },
  {
   "cell_type": "code",
   "execution_count": 69,
   "id": "fee1c325",
   "metadata": {},
   "outputs": [
    {
     "name": "stdout",
     "output_type": "stream",
     "text": [
      "[[34  0  0  0]\n",
      " [ 0 14  0  0]\n",
      " [ 0  0 11  0]\n",
      " [ 0  0  0 30]]\n",
      "                               precision    recall  f1-score   support\n",
      "\n",
      "                 Génie Civile       1.00      1.00      1.00        34\n",
      "  Génie Electrique et Télécom       1.00      1.00      1.00        14\n",
      "Génie Industriel et Mécanique       1.00      1.00      1.00        11\n",
      "           Génie Informatique       1.00      1.00      1.00        30\n",
      "\n",
      "                     accuracy                           1.00        89\n",
      "                    macro avg       1.00      1.00      1.00        89\n",
      "                 weighted avg       1.00      1.00      1.00        89\n",
      "\n"
     ]
    },
    {
     "data": {
      "image/png": "[encoded data removed]",
      "text/plain": [
       "<Figure size 864x576 with 1 Axes>"
      ]
     },
     "metadata": {
      "needs_background": "light"
     },
     "output_type": "display_data"
    }
   ],
   "source": [
    "model = evaluation(model)"
   ]
  },
  {
   "cell_type": "code",
   "execution_count": 70,
   "id": "alpha-husband",
   "metadata": {},
   "outputs": [
    {
     "data": {
      "text/plain": [
       "(1, 27)"
      ]
     },
     "execution_count": 70,
     "metadata": {},
     "output_type": "execute_result"
    }
   ],
   "source": [
    "# Un test avec les notes d'un étudiant entrées au hasard\n",
    "test = [12, 13, 11, 12, 13, 13, 11, 14.5, 13, 13, 15, 13, 13, 14, 16, 11, 10, 13, 12, 19, 14, 11, 11, 16, 11, 15, 10]\n",
    "test = np.array(test, dtype='float32')\n",
    "test = test.reshape((1, test.shape[0]))\n",
    "test.shape"
   ]
  },
  {
   "cell_type": "code",
   "execution_count": 71,
   "id": "40d76baa",
   "metadata": {},
   "outputs": [
    {
     "data": {
      "text/plain": [
       "array(['Génie Informatique'], dtype='<U29')"
      ]
     },
     "execution_count": 71,
     "metadata": {},
     "output_type": "execute_result"
    }
   ],
   "source": [
    "model.predict(test)"
   ]
  },
  {
   "cell_type": "code",
   "execution_count": null,
   "id": "061dc53c",
   "metadata": {},
   "outputs": [
    {
     "data": {
      "text/plain": [
       "(89, 28)"
      ]
     },
     "execution_count": 26,
     "metadata": {},
     "output_type": "execute_result"
    }
   ],
   "source": [
    "X_test.shape"
   ]
  },
  {
   "cell_type": "markdown",
   "id": "d6d8aea1",
   "metadata": {},
   "source": [
    "## NB: Ici je te montres une nouvelle facon de raisonner pour resoudre ton probleme: approche par reseau de neurone (Architecture perceptron multicouche)"
   ]
  },
  {
   "cell_type": "code",
   "execution_count": null,
   "id": "d01fbf47",
   "metadata": {},
   "outputs": [],
   "source": [
    "# A tenir compte lors de la resolution de ton problement\n",
    "# 1. Quand on bosse sur un projet de machine learning, il est important de bien circonscrire le probleme\n",
    "# 2. Tu as entrainer un modele sans normaliser tes donnees\n",
    "# 3. Les courbes d'apprentissages te disent qu'effectivement la tendance a generaliser sur les donnees de test n'est pas bonne\n",
    "# 4. Il existe plusieurs modele de machine learning, es-tu sur de l'adequation du modele choisit relativement a ton pb?\n",
    "# 5. Quel est ta fonction d'erreur que tu cherchent a obtimiser?\n",
    "# 6. Quel est l'algorithme d'optimisation que tu utilise pour resoudre ton probleme?\n",
    "# 7. Il faut bien definir les objectifs \n",
    "# 5. Ici je te montres un peu comment les choses fonctionnes"
   ]
  },
  {
   "cell_type": "code",
   "execution_count": 1,
   "id": "85566e39",
   "metadata": {},
   "outputs": [
    {
     "ename": "ModuleNotFoundError",
     "evalue": "No module named 'tensorflow'",
     "output_type": "error",
     "traceback": [
      "\u001b[1;31m---------------------------------------------------------------------------\u001b[0m",
      "\u001b[1;31mModuleNotFoundError\u001b[0m                       Traceback (most recent call last)",
      "\u001b[1;32m<ipython-input-1-92f1c236d15e>\u001b[0m in \u001b[0;36m<module>\u001b[1;34m\u001b[0m\n\u001b[0;32m      5\u001b[0m \u001b[1;32mimport\u001b[0m \u001b[0mmatplotlib\u001b[0m\u001b[1;33m.\u001b[0m\u001b[0mpyplot\u001b[0m \u001b[1;32mas\u001b[0m \u001b[0mplt\u001b[0m\u001b[1;33m\u001b[0m\u001b[1;33m\u001b[0m\u001b[0m\n\u001b[0;32m      6\u001b[0m \u001b[1;32mfrom\u001b[0m \u001b[0msklearn\u001b[0m\u001b[1;33m.\u001b[0m\u001b[0mmodel_selection\u001b[0m \u001b[1;32mimport\u001b[0m \u001b[0mtrain_test_split\u001b[0m\u001b[1;33m\u001b[0m\u001b[1;33m\u001b[0m\u001b[0m\n\u001b[1;32m----> 7\u001b[1;33m \u001b[1;32mfrom\u001b[0m \u001b[0mtensorflow\u001b[0m \u001b[1;32mimport\u001b[0m \u001b[0mkeras\u001b[0m\u001b[1;33m\u001b[0m\u001b[1;33m\u001b[0m\u001b[0m\n\u001b[0m\u001b[0;32m      8\u001b[0m \u001b[1;33m\u001b[0m\u001b[0m\n\u001b[0;32m      9\u001b[0m \u001b[0mdata\u001b[0m \u001b[1;33m=\u001b[0m \u001b[0mpd\u001b[0m\u001b[1;33m.\u001b[0m\u001b[0mread_excel\u001b[0m\u001b[1;33m(\u001b[0m\u001b[1;34m\"pipos datasets.xls\"\u001b[0m\u001b[1;33m)\u001b[0m\u001b[1;33m\u001b[0m\u001b[1;33m\u001b[0m\u001b[0m\n",
      "\u001b[1;31mModuleNotFoundError\u001b[0m: No module named 'tensorflow'"
     ]
    }
   ],
   "source": [
    "# Data\n",
    "from sklearn.preprocessing import LabelEncoder\n",
    "import pandas as pd\n",
    "import numpy as np\n",
    "import matplotlib.pyplot as plt\n",
    "from sklearn.model_selection import train_test_split\n",
    "from tensorflow import keras\n",
    "\n",
    "data = pd.read_excel(\"pipos datasets.xls\")\n",
    "data = data.drop(\"Unnamed: 0\", axis=1)\n",
    "X = np.array(data.drop(\"Spécalités\", axis=1))\n",
    "y = np.array(data[\"Spécalités\"])\n",
    "transformer = LabelEncoder()\n",
    "y = transformer.fit_transform(y)\n",
    "\n",
    "X = (X - X.mean()) / X.std()\n",
    "print(X.shape)\n",
    "print(y.shape)"
   ]
  },
  {
   "cell_type": "code",
   "execution_count": null,
   "id": "5374fa85",
   "metadata": {},
   "outputs": [],
   "source": [
    "y # Ici on a les differentes classes qui se trouve dans le vecteur y"
   ]
  },
  {
   "cell_type": "code",
   "execution_count": null,
   "id": "0918cf41",
   "metadata": {},
   "outputs": [],
   "source": [
    "# Donnees d'entrainement et donnees de test\n",
    "X_train, X_test, y_train, y_test = train_test_split(X, y, random_state=42, test_size=0.2)\n",
    "print(\"X_train shape:\",X_train.shape)\n",
    "print(\"y_train shape:\", y_train.shape)\n",
    "print(\"X_test shape:\",X_test.shape)\n",
    "print(\"y_test shape:\", y_test.shape)"
   ]
  },
  {
   "cell_type": "code",
   "execution_count": null,
   "id": "948dbac8",
   "metadata": {},
   "outputs": [],
   "source": [
    "model = keras.models.Sequential([\n",
    "    keras.layers.Input((27,)),\n",
    "    keras.layers.Dense(100, activation='relu'),\n",
    "    keras.layers.Dense(64, activation='relu'),\n",
    "    keras.layers.Dense(64, activation='relu'),\n",
    "    keras.layers.Dense(4, activation='softmax')\n",
    "])\n",
    "\n",
    "model.compile(optimizer='adam', loss='SparseCategoricalCrossentropy', metrics=['accuracy'])\n",
    "model.summary()\n"
   ]
  },
  {
   "cell_type": "code",
   "execution_count": null,
   "id": "99aea2f5",
   "metadata": {},
   "outputs": [],
   "source": [
    "# Entrainement du modele\n",
    "resulats = model.fit(X_train, y_train, epochs=50, batch_size=20, validation_data=(X_test, y_test))"
   ]
  },
  {
   "cell_type": "code",
   "execution_count": null,
   "id": "bb4e9fc3",
   "metadata": {},
   "outputs": [],
   "source": [
    "train_loss = resulats.history[\"loss\"]\n",
    "val_loss = resulats.history[\"val_loss\"]\n",
    "train_acc = resulats.history[\"accuracy\"]\n",
    "val_acc = resulats.history[\"val_accuracy\"]\n",
    "\n",
    "# Courbes d'apprentissage et de performance du modele\n",
    "plt.figure(figsize=(14,5))\n",
    "plt.subplot(121)\n",
    "plt.title('Loss')\n",
    "plt.plot(train_loss, c='b',label='train_loss')\n",
    "plt.plot(val_loss, c='r', label='val_loss')\n",
    "plt.xlabel(\"n_epochs\")\n",
    "plt.ylabel(\"loss\")\n",
    "plt.legend()\n",
    "\n",
    "plt.subplot(122)\n",
    "plt.title('Accuracy')\n",
    "plt.plot(train_acc, c='b',label='train_acc')\n",
    "plt.plot(val_acc, c='r', label='val_acc')\n",
    "plt.xlabel(\"n_epochs\")\n",
    "plt.ylabel(\"accuracy\")\n",
    "plt.legend()\n",
    "plt.show()"
   ]
  },
  {
   "cell_type": "code",
   "execution_count": null,
   "id": "3a1a3851",
   "metadata": {},
   "outputs": [],
   "source": [
    "# Phase predictive\n",
    "x_pred = X[0]\n",
    "print(x_pred.shape)\n",
    "x_pred"
   ]
  },
  {
   "cell_type": "code",
   "execution_count": null,
   "id": "b492a13e",
   "metadata": {},
   "outputs": [],
   "source": [
    "def choix():\n",
    "    notes1 = []\n",
    "    notes2 = []\n",
    "    result1 = []\n",
    "    result2 = []\n",
    "    print(\"les matières du niveau 1 sont considérées ainsi qu'il suit\")\n",
    "    print(\"0:Info ; 1:Meca 1 ; 2:Electrostat ; 3:electromag\")\n",
    "    print(\"4:chimie ; 5: TP phys 1 ; 6: algebre générale ;\") \n",
    "    print(\"7:Analyse 1 ; 8:science des matériels ; 9:Algèbre lin ; 10: Analyse 2 ; 11:proba\")\n",
    "    print()\n",
    "    print(\"Veuillez entrer vos 12 notes du niveau 1\")\n",
    "    for i in range(12):\n",
    "        note = float(input(\"entrer une note pour la matière {} : \".format(i)))\n",
    "        notes1.append(note)\n",
    "    \n",
    "    print()\n",
    "    print(\"les matières du niveau 2 sont considérées ainsi qu'il suit\")\n",
    "    print(\"0:Info2 ; 1:Meca 2 ; 2:Elecine ; 3:electromag 2\")\n",
    "    print(\"4:Thermodin 2 ; 5: TP phys 2 ; 6: algebre générale\") \n",
    "    print(\"7:C++ ; 8:circuits électriques ; 9:Optique géométrique ; 10: Stat ; 11:série intégrales\")\n",
    "    print()\n",
    "    print(\"Veuillez entrer vos 12 notes du niveau 2\")\n",
    "    for i in range(12):\n",
    "        note = float(input(\"entrer une note pour la matière {} : \".format(i)))\n",
    "        notes2.append(note)\n",
    "\n",
    "    notes = notes1 + notes2    \n",
    "    score_1 = np.array(notes1)\n",
    "    score_2 = np.array(notes2)\n",
    "    for g in coefs_fil :\n",
    "        g = np.array(g)\n",
    "        moy1 = float(np.sum(g*score_1)/40)\n",
    "        moy2 = float(np.sum(g*score_2)/40)\n",
    "        result1.append(moy1)\n",
    "        result2.append(moy2)\n",
    "    result1 = np.array(result1)\n",
    "    result2 = np.array(result2)\n",
    "    result = (result1+result2)/2\n",
    "    print()\n",
    "    print(\"Le choix de la filière se fait comme ci-dessous\")\n",
    "    print(\"0:g-élec ; 1:g-telecom ; 2:g-inf ; 3:g-meca ; 4:g-civil ; 5:g-ind\")\n",
    "    \n",
    "    fil = int(input(\"Choisi ta filière \"))\n",
    "    poss = result[fil]*100/20\n",
    "    fili = [\"g-élec\",\"g-telecom\",\"g-inf\",\"g-meca\",\"g-civil\",\"g-ind\"]\n",
    "    x = np.array(notes).reshape(1,24)\n",
    "    best = int(model.predict(x))\n",
    "    print()\n",
    "    if fil == best :\n",
    "        print(\"apres etude de tes note  Tu a fait le meilleur choix de filière\")\n",
    "        print(\"Ton taux de réussite sera {}% \".format(poss))\n",
    "    else :\n",
    "        print(\"Dans cette filière, ton taux de réussite sera {}% \".format(poss))\n",
    "        print(\"La meilleure filière pour toi est {} et ton taux de réussite sera {}%\".format(fili[best],result[best]*100/20))"
   ]
  },
  {
   "cell_type": "code",
   "execution_count": null,
   "id": "fd9127cd",
   "metadata": {},
   "outputs": [],
   "source": []
  }
 ],
 "metadata": {
  "kernelspec": {
   "display_name": "Python 3",
   "language": "python",
   "name": "python3"
  },
  "language_info": {
   "codemirror_mode": {
    "name": "ipython",
    "version": 3
   },
   "file_extension": ".py",
   "mimetype": "text/x-python",
   "name": "python",
   "nbconvert_exporter": "python",
   "pygments_lexer": "ipython3",
   "version": "3.8.8"
  }
 },
 "nbformat": 4,
 "nbformat_minor": 5
}
